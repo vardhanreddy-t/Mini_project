{
  "metadata": {
    "kernelspec": {
      "display_name": "Python 3",
      "name": "python3"
    },
    "language_info": {
      "name": "python",
      "version": "3.10.14",
      "mimetype": "text/x-python",
      "codemirror_mode": {
        "name": "ipython",
        "version": 3
      },
      "pygments_lexer": "ipython3",
      "nbconvert_exporter": "python",
      "file_extension": ".py"
    },
    "kaggle": {
      "accelerator": "nvidiaTeslaT4",
      "dataSources": [
        {
          "sourceId": 1192499,
          "sourceType": "datasetVersion",
          "datasetId": 622510
        }
      ],
      "dockerImageVersionId": 30761,
      "isInternetEnabled": false,
      "language": "python",
      "sourceType": "notebook",
      "isGpuEnabled": true
    },
    "colab": {
      "provenance": [],
      "gpuType": "T4",
      "include_colab_link": true
    },
    "accelerator": "GPU"
  },
  "nbformat_minor": 0,
  "nbformat": 4,
  "cells": [
    {
      "cell_type": "markdown",
      "metadata": {
        "id": "view-in-github",
        "colab_type": "text"
      },
      "source": [
        "<a href=\"https://colab.research.google.com/github/vardhanreddy-t/mini_project/blob/main/Sentiment_Analysis_for_Financial_News.ipynb\" target=\"_parent\"><img src=\"https://colab.research.google.com/assets/colab-badge.svg\" alt=\"Open In Colab\"/></a>"
      ]
    },
    {
      "cell_type": "code",
      "source": [
        "# Import necessary libraries\n",
        "import kagglehub\n",
        "import os\n",
        "import numpy as np\n",
        "import pandas as pd\n",
        "import matplotlib.pyplot as plt\n",
        "import random\n",
        "import tensorflow as tf\n",
        "\n",
        "# Download dataset 'ankurzing/sentiment-analysis-for-financial-news' using Kaggle API\n",
        "ankurzing_sentiment_analysis_for_financial_news_path = kagglehub.dataset_download('ankurzing/sentiment-analysis-for-financial-news')\n",
        "print('Data source import complete.')\n"
      ],
      "metadata": {
        "colab": {
          "base_uri": "https://localhost:8080/"
        },
        "id": "VmKBj5Jx5uUp",
        "outputId": "96a16511-626c-402e-cd56-ebe774199d86"
      },
      "execution_count": null,
      "outputs": [
        {
          "output_type": "stream",
          "name": "stdout",
          "text": [
            "Data source import complete.\n"
          ]
        }
      ]
    },
    {
      "cell_type": "code",
      "source": [
        "# List all files in Kaggle's input directory\n",
        "for dirname, _, filenames in os.walk('/kaggle/input'):\n",
        "    for filename in filenames:\n",
        "        print(os.path.join(dirname, filename))\n"
      ],
      "metadata": {
        "id": "i8v7fxfv5_Mo"
      },
      "execution_count": null,
      "outputs": []
    },
    {
      "cell_type": "code",
      "source": [
        "# Install Kaggle API and download the dataset directly from Kaggle\n",
        "!pip install kaggle\n",
        "!kaggle datasets download -d ankurzing/sentiment-analysis-for-financial-news -p . --unzip\n"
      ],
      "metadata": {
        "colab": {
          "base_uri": "https://localhost:8080/"
        },
        "id": "tJ81AUkV6DXR",
        "outputId": "67962dbf-9455-4fd6-950d-2617e24790da"
      },
      "execution_count": null,
      "outputs": [
        {
          "output_type": "stream",
          "name": "stdout",
          "text": [
            "Requirement already satisfied: kaggle in /usr/local/lib/python3.10/dist-packages (1.6.17)\n",
            "Requirement already satisfied: six>=1.10 in /usr/local/lib/python3.10/dist-packages (from kaggle) (1.16.0)\n",
            "Requirement already satisfied: certifi>=2023.7.22 in /usr/local/lib/python3.10/dist-packages (from kaggle) (2024.8.30)\n",
            "Requirement already satisfied: python-dateutil in /usr/local/lib/python3.10/dist-packages (from kaggle) (2.8.2)\n",
            "Requirement already satisfied: requests in /usr/local/lib/python3.10/dist-packages (from kaggle) (2.32.3)\n",
            "Requirement already satisfied: tqdm in /usr/local/lib/python3.10/dist-packages (from kaggle) (4.66.6)\n",
            "Requirement already satisfied: python-slugify in /usr/local/lib/python3.10/dist-packages (from kaggle) (8.0.4)\n",
            "Requirement already satisfied: urllib3 in /usr/local/lib/python3.10/dist-packages (from kaggle) (2.2.3)\n",
            "Requirement already satisfied: bleach in /usr/local/lib/python3.10/dist-packages (from kaggle) (6.2.0)\n",
            "Requirement already satisfied: webencodings in /usr/local/lib/python3.10/dist-packages (from bleach->kaggle) (0.5.1)\n",
            "Requirement already satisfied: text-unidecode>=1.3 in /usr/local/lib/python3.10/dist-packages (from python-slugify->kaggle) (1.3)\n",
            "Requirement already satisfied: charset-normalizer<4,>=2 in /usr/local/lib/python3.10/dist-packages (from requests->kaggle) (3.4.0)\n",
            "Requirement already satisfied: idna<4,>=2.5 in /usr/local/lib/python3.10/dist-packages (from requests->kaggle) (3.10)\n",
            "Dataset URL: https://www.kaggle.com/datasets/ankurzing/sentiment-analysis-for-financial-news\n",
            "License(s): CC-BY-NC-SA-4.0\n",
            "Downloading sentiment-analysis-for-financial-news.zip to .\n",
            "100% 903k/903k [00:00<00:00, 998kB/s]\n",
            "100% 903k/903k [00:00<00:00, 998kB/s]\n"
          ]
        }
      ]
    },
    {
      "cell_type": "code",
      "source": [
        "# Define path to CSV file and load it into a pandas DataFrame\n",
        "file_path = 'all-data.csv'\n",
        "df = pd.read_csv(file_path, encoding='latin-1')\n",
        "print(df.head())  # Print first few rows to verify data loading\n"
      ],
      "metadata": {
        "colab": {
          "base_uri": "https://localhost:8080/"
        },
        "id": "YzJ0cvus6GHJ",
        "outputId": "f8cf7826-735e-4149-dd8e-82256db044a9"
      },
      "execution_count": null,
      "outputs": [
        {
          "output_type": "stream",
          "name": "stdout",
          "text": [
            "    neutral  \\\n",
            "0   neutral   \n",
            "1  negative   \n",
            "2  positive   \n",
            "3  positive   \n",
            "4  positive   \n",
            "\n",
            "  According to Gran , the company has no plans to move all production to Russia , although that is where the company is growing .  \n",
            "0  Technopolis plans to develop in stages an area...                                                                               \n",
            "1  The international electronic industry company ...                                                                               \n",
            "2  With the new production plant the company woul...                                                                               \n",
            "3  According to the company 's updated strategy f...                                                                               \n",
            "4  FINANCING OF ASPOCOMP 'S GROWTH Aspocomp is ag...                                                                               \n"
          ]
        }
      ]
    },
    {
      "cell_type": "code",
      "source": [
        "# Rename columns for better readability\n",
        "df = df.rename(columns={'neutral': 'Sentiment',\n",
        "                        'According to Gran , the company has no plans to move all production to Russia , although that is where the company is growing .' : 'Text' })\n",
        "df.head()\n"
      ],
      "metadata": {
        "colab": {
          "base_uri": "https://localhost:8080/",
          "height": 206
        },
        "id": "kV3mVbCi6Jjx",
        "outputId": "5884a234-71ac-44be-881e-b18ba6bd770e"
      },
      "execution_count": null,
      "outputs": [
        {
          "output_type": "execute_result",
          "data": {
            "text/plain": [
              "  Sentiment                                               Text\n",
              "0   neutral  Technopolis plans to develop in stages an area...\n",
              "1  negative  The international electronic industry company ...\n",
              "2  positive  With the new production plant the company woul...\n",
              "3  positive  According to the company 's updated strategy f...\n",
              "4  positive  FINANCING OF ASPOCOMP 'S GROWTH Aspocomp is ag..."
            ],
            "text/html": [
              "\n",
              "  <div id=\"df-209b070d-6812-4306-9818-3dc04c99d91e\" class=\"colab-df-container\">\n",
              "    <div>\n",
              "<style scoped>\n",
              "    .dataframe tbody tr th:only-of-type {\n",
              "        vertical-align: middle;\n",
              "    }\n",
              "\n",
              "    .dataframe tbody tr th {\n",
              "        vertical-align: top;\n",
              "    }\n",
              "\n",
              "    .dataframe thead th {\n",
              "        text-align: right;\n",
              "    }\n",
              "</style>\n",
              "<table border=\"1\" class=\"dataframe\">\n",
              "  <thead>\n",
              "    <tr style=\"text-align: right;\">\n",
              "      <th></th>\n",
              "      <th>Sentiment</th>\n",
              "      <th>Text</th>\n",
              "    </tr>\n",
              "  </thead>\n",
              "  <tbody>\n",
              "    <tr>\n",
              "      <th>0</th>\n",
              "      <td>neutral</td>\n",
              "      <td>Technopolis plans to develop in stages an area...</td>\n",
              "    </tr>\n",
              "    <tr>\n",
              "      <th>1</th>\n",
              "      <td>negative</td>\n",
              "      <td>The international electronic industry company ...</td>\n",
              "    </tr>\n",
              "    <tr>\n",
              "      <th>2</th>\n",
              "      <td>positive</td>\n",
              "      <td>With the new production plant the company woul...</td>\n",
              "    </tr>\n",
              "    <tr>\n",
              "      <th>3</th>\n",
              "      <td>positive</td>\n",
              "      <td>According to the company 's updated strategy f...</td>\n",
              "    </tr>\n",
              "    <tr>\n",
              "      <th>4</th>\n",
              "      <td>positive</td>\n",
              "      <td>FINANCING OF ASPOCOMP 'S GROWTH Aspocomp is ag...</td>\n",
              "    </tr>\n",
              "  </tbody>\n",
              "</table>\n",
              "</div>\n",
              "    <div class=\"colab-df-buttons\">\n",
              "\n",
              "  <div class=\"colab-df-container\">\n",
              "    <button class=\"colab-df-convert\" onclick=\"convertToInteractive('df-209b070d-6812-4306-9818-3dc04c99d91e')\"\n",
              "            title=\"Convert this dataframe to an interactive table.\"\n",
              "            style=\"display:none;\">\n",
              "\n",
              "  <svg xmlns=\"http://www.w3.org/2000/svg\" height=\"24px\" viewBox=\"0 -960 960 960\">\n",
              "    <path d=\"M120-120v-720h720v720H120Zm60-500h600v-160H180v160Zm220 220h160v-160H400v160Zm0 220h160v-160H400v160ZM180-400h160v-160H180v160Zm440 0h160v-160H620v160ZM180-180h160v-160H180v160Zm440 0h160v-160H620v160Z\"/>\n",
              "  </svg>\n",
              "    </button>\n",
              "\n",
              "  <style>\n",
              "    .colab-df-container {\n",
              "      display:flex;\n",
              "      gap: 12px;\n",
              "    }\n",
              "\n",
              "    .colab-df-convert {\n",
              "      background-color: #E8F0FE;\n",
              "      border: none;\n",
              "      border-radius: 50%;\n",
              "      cursor: pointer;\n",
              "      display: none;\n",
              "      fill: #1967D2;\n",
              "      height: 32px;\n",
              "      padding: 0 0 0 0;\n",
              "      width: 32px;\n",
              "    }\n",
              "\n",
              "    .colab-df-convert:hover {\n",
              "      background-color: #E2EBFA;\n",
              "      box-shadow: 0px 1px 2px rgba(60, 64, 67, 0.3), 0px 1px 3px 1px rgba(60, 64, 67, 0.15);\n",
              "      fill: #174EA6;\n",
              "    }\n",
              "\n",
              "    .colab-df-buttons div {\n",
              "      margin-bottom: 4px;\n",
              "    }\n",
              "\n",
              "    [theme=dark] .colab-df-convert {\n",
              "      background-color: #3B4455;\n",
              "      fill: #D2E3FC;\n",
              "    }\n",
              "\n",
              "    [theme=dark] .colab-df-convert:hover {\n",
              "      background-color: #434B5C;\n",
              "      box-shadow: 0px 1px 3px 1px rgba(0, 0, 0, 0.15);\n",
              "      filter: drop-shadow(0px 1px 2px rgba(0, 0, 0, 0.3));\n",
              "      fill: #FFFFFF;\n",
              "    }\n",
              "  </style>\n",
              "\n",
              "    <script>\n",
              "      const buttonEl =\n",
              "        document.querySelector('#df-209b070d-6812-4306-9818-3dc04c99d91e button.colab-df-convert');\n",
              "      buttonEl.style.display =\n",
              "        google.colab.kernel.accessAllowed ? 'block' : 'none';\n",
              "\n",
              "      async function convertToInteractive(key) {\n",
              "        const element = document.querySelector('#df-209b070d-6812-4306-9818-3dc04c99d91e');\n",
              "        const dataTable =\n",
              "          await google.colab.kernel.invokeFunction('convertToInteractive',\n",
              "                                                    [key], {});\n",
              "        if (!dataTable) return;\n",
              "\n",
              "        const docLinkHtml = 'Like what you see? Visit the ' +\n",
              "          '<a target=\"_blank\" href=https://colab.research.google.com/notebooks/data_table.ipynb>data table notebook</a>'\n",
              "          + ' to learn more about interactive tables.';\n",
              "        element.innerHTML = '';\n",
              "        dataTable['output_type'] = 'display_data';\n",
              "        await google.colab.output.renderOutput(dataTable, element);\n",
              "        const docLink = document.createElement('div');\n",
              "        docLink.innerHTML = docLinkHtml;\n",
              "        element.appendChild(docLink);\n",
              "      }\n",
              "    </script>\n",
              "  </div>\n",
              "\n",
              "\n",
              "<div id=\"df-453e5281-4e62-4dc1-94a8-e2dccd157b42\">\n",
              "  <button class=\"colab-df-quickchart\" onclick=\"quickchart('df-453e5281-4e62-4dc1-94a8-e2dccd157b42')\"\n",
              "            title=\"Suggest charts\"\n",
              "            style=\"display:none;\">\n",
              "\n",
              "<svg xmlns=\"http://www.w3.org/2000/svg\" height=\"24px\"viewBox=\"0 0 24 24\"\n",
              "     width=\"24px\">\n",
              "    <g>\n",
              "        <path d=\"M19 3H5c-1.1 0-2 .9-2 2v14c0 1.1.9 2 2 2h14c1.1 0 2-.9 2-2V5c0-1.1-.9-2-2-2zM9 17H7v-7h2v7zm4 0h-2V7h2v10zm4 0h-2v-4h2v4z\"/>\n",
              "    </g>\n",
              "</svg>\n",
              "  </button>\n",
              "\n",
              "<style>\n",
              "  .colab-df-quickchart {\n",
              "      --bg-color: #E8F0FE;\n",
              "      --fill-color: #1967D2;\n",
              "      --hover-bg-color: #E2EBFA;\n",
              "      --hover-fill-color: #174EA6;\n",
              "      --disabled-fill-color: #AAA;\n",
              "      --disabled-bg-color: #DDD;\n",
              "  }\n",
              "\n",
              "  [theme=dark] .colab-df-quickchart {\n",
              "      --bg-color: #3B4455;\n",
              "      --fill-color: #D2E3FC;\n",
              "      --hover-bg-color: #434B5C;\n",
              "      --hover-fill-color: #FFFFFF;\n",
              "      --disabled-bg-color: #3B4455;\n",
              "      --disabled-fill-color: #666;\n",
              "  }\n",
              "\n",
              "  .colab-df-quickchart {\n",
              "    background-color: var(--bg-color);\n",
              "    border: none;\n",
              "    border-radius: 50%;\n",
              "    cursor: pointer;\n",
              "    display: none;\n",
              "    fill: var(--fill-color);\n",
              "    height: 32px;\n",
              "    padding: 0;\n",
              "    width: 32px;\n",
              "  }\n",
              "\n",
              "  .colab-df-quickchart:hover {\n",
              "    background-color: var(--hover-bg-color);\n",
              "    box-shadow: 0 1px 2px rgba(60, 64, 67, 0.3), 0 1px 3px 1px rgba(60, 64, 67, 0.15);\n",
              "    fill: var(--button-hover-fill-color);\n",
              "  }\n",
              "\n",
              "  .colab-df-quickchart-complete:disabled,\n",
              "  .colab-df-quickchart-complete:disabled:hover {\n",
              "    background-color: var(--disabled-bg-color);\n",
              "    fill: var(--disabled-fill-color);\n",
              "    box-shadow: none;\n",
              "  }\n",
              "\n",
              "  .colab-df-spinner {\n",
              "    border: 2px solid var(--fill-color);\n",
              "    border-color: transparent;\n",
              "    border-bottom-color: var(--fill-color);\n",
              "    animation:\n",
              "      spin 1s steps(1) infinite;\n",
              "  }\n",
              "\n",
              "  @keyframes spin {\n",
              "    0% {\n",
              "      border-color: transparent;\n",
              "      border-bottom-color: var(--fill-color);\n",
              "      border-left-color: var(--fill-color);\n",
              "    }\n",
              "    20% {\n",
              "      border-color: transparent;\n",
              "      border-left-color: var(--fill-color);\n",
              "      border-top-color: var(--fill-color);\n",
              "    }\n",
              "    30% {\n",
              "      border-color: transparent;\n",
              "      border-left-color: var(--fill-color);\n",
              "      border-top-color: var(--fill-color);\n",
              "      border-right-color: var(--fill-color);\n",
              "    }\n",
              "    40% {\n",
              "      border-color: transparent;\n",
              "      border-right-color: var(--fill-color);\n",
              "      border-top-color: var(--fill-color);\n",
              "    }\n",
              "    60% {\n",
              "      border-color: transparent;\n",
              "      border-right-color: var(--fill-color);\n",
              "    }\n",
              "    80% {\n",
              "      border-color: transparent;\n",
              "      border-right-color: var(--fill-color);\n",
              "      border-bottom-color: var(--fill-color);\n",
              "    }\n",
              "    90% {\n",
              "      border-color: transparent;\n",
              "      border-bottom-color: var(--fill-color);\n",
              "    }\n",
              "  }\n",
              "</style>\n",
              "\n",
              "  <script>\n",
              "    async function quickchart(key) {\n",
              "      const quickchartButtonEl =\n",
              "        document.querySelector('#' + key + ' button');\n",
              "      quickchartButtonEl.disabled = true;  // To prevent multiple clicks.\n",
              "      quickchartButtonEl.classList.add('colab-df-spinner');\n",
              "      try {\n",
              "        const charts = await google.colab.kernel.invokeFunction(\n",
              "            'suggestCharts', [key], {});\n",
              "      } catch (error) {\n",
              "        console.error('Error during call to suggestCharts:', error);\n",
              "      }\n",
              "      quickchartButtonEl.classList.remove('colab-df-spinner');\n",
              "      quickchartButtonEl.classList.add('colab-df-quickchart-complete');\n",
              "    }\n",
              "    (() => {\n",
              "      let quickchartButtonEl =\n",
              "        document.querySelector('#df-453e5281-4e62-4dc1-94a8-e2dccd157b42 button');\n",
              "      quickchartButtonEl.style.display =\n",
              "        google.colab.kernel.accessAllowed ? 'block' : 'none';\n",
              "    })();\n",
              "  </script>\n",
              "</div>\n",
              "\n",
              "    </div>\n",
              "  </div>\n"
            ],
            "application/vnd.google.colaboratory.intrinsic+json": {
              "type": "dataframe",
              "variable_name": "df",
              "summary": "{\n  \"name\": \"df\",\n  \"rows\": 4845,\n  \"fields\": [\n    {\n      \"column\": \"Sentiment\",\n      \"properties\": {\n        \"dtype\": \"category\",\n        \"num_unique_values\": 3,\n        \"samples\": [\n          \"neutral\",\n          \"negative\",\n          \"positive\"\n        ],\n        \"semantic_type\": \"\",\n        \"description\": \"\"\n      }\n    },\n    {\n      \"column\": \"Text\",\n      \"properties\": {\n        \"dtype\": \"string\",\n        \"num_unique_values\": 4837,\n        \"samples\": [\n          \"The company serves customers in various industries , including process and resources , industrial machinery , architecture , building , construction , electrical , transportation , electronics , chemical , petrochemical , energy , and information technology , as well as catering and households .\",\n          \"Only L+\\u00c6nnen Tehtaat showed a loss , but it has only recently started streamlining measures .\",\n          \"The extracted filtrates are very high in clarity while the dried filter cakes meet required transport moisture limits (TMLs)for their ore grades .\"\n        ],\n        \"semantic_type\": \"\",\n        \"description\": \"\"\n      }\n    }\n  ]\n}"
            }
          },
          "metadata": {},
          "execution_count": 15
        }
      ]
    },
    {
      "cell_type": "code",
      "source": [
        "# Plot distribution of sentiment classes\n",
        "plt.hist(df.Sentiment)\n",
        "plt.show()\n",
        "\n",
        "# Note that data is imbalanced\n"
      ],
      "metadata": {
        "colab": {
          "base_uri": "https://localhost:8080/",
          "height": 433
        },
        "id": "yIQnMwZn6KVN",
        "outputId": "1f91c953-0cea-4aa6-cea2-4d9bff4d3e77"
      },
      "execution_count": null,
      "outputs": [
        {
          "output_type": "display_data",
          "data": {
            "text/plain": [
              "<Figure size 640x480 with 1 Axes>"
            ],
            "image/png": "[encoded data removed]"
          },
          "metadata": {}
        }
      ]
    },
    {
      "cell_type": "code",
      "source": [
        "from sklearn.model_selection import train_test_split\n",
        "# Assuming data is in a DataFrame `df` with columns `text` and `label`\n",
        "\n",
        "train_data, temp_data = train_test_split(df, test_size=0.4, random_state=42)\n",
        "val_data, test_data = train_test_split(temp_data, test_size=0.5, random_state=42)\n",
        "\n",
        "print(\"Training set size:\", len(train_data))\n",
        "print(\"Validation set size:\", len(val_data))\n",
        "print(\"Test set size:\", len(test_data))\n"
      ],
      "metadata": {
        "colab": {
          "base_uri": "https://localhost:8080/"
        },
        "id": "ZDUmndBjfAeP",
        "outputId": "5cd49381-199f-4c42-8c83-88b43dab099b"
      },
      "execution_count": null,
      "outputs": [
        {
          "output_type": "stream",
          "name": "stdout",
          "text": [
            "Training set size: 2907\n",
            "Validation set size: 969\n",
            "Test set size: 969\n"
          ]
        }
      ]
    },
    {
      "cell_type": "code",
      "source": [
        "import spacy\n",
        "from spacy.lang.en import English\n",
        "\n",
        "# Load English vocabulary\n",
        "nlp = English()\n",
        "nlp_ = spacy.load('en_core_web_sm')\n",
        "en_vocab = list(nlp_.vocab.strings)\n",
        "\n",
        "# Identify words not in the English vocabulary\n",
        "not_in_vocab = []\n",
        "for i, row in df.iterrows():\n",
        "    sentence = set(nlp(row.Text))\n",
        "    vocab = set(en_vocab)\n",
        "    not_in_vocabs = sentence.difference(vocab)\n",
        "    for j in list(not_in_vocabs):\n",
        "        not_in_vocab.append(j)\n",
        "\n",
        "# Check for specific words like 'percentage'\n",
        "df[df.Text.str.contains('percentage') == True]['Text']\n"
      ],
      "metadata": {
        "colab": {
          "base_uri": "https://localhost:8080/",
          "height": 241
        },
        "id": "cW6C10O46Mqo",
        "outputId": "6b709f49-fb44-44ab-a70f-9cdf18d3fbe6"
      },
      "execution_count": null,
      "outputs": [
        {
          "output_type": "execute_result",
          "data": {
            "text/plain": [
              "361     Return on capital employed rose by 4.8 percent...\n",
              "3884    The percentages of shares and voting rights ha...\n",
              "4389    As capacity was cut with 1.4 % , the passenger...\n",
              "4396    Finnair 's passenger load factor , which measu...\n",
              "4689    Market share decreased on the route between He...\n",
              "Name: Text, dtype: object"
            ],
            "text/html": [
              "<div>\n",
              "<style scoped>\n",
              "    .dataframe tbody tr th:only-of-type {\n",
              "        vertical-align: middle;\n",
              "    }\n",
              "\n",
              "    .dataframe tbody tr th {\n",
              "        vertical-align: top;\n",
              "    }\n",
              "\n",
              "    .dataframe thead th {\n",
              "        text-align: right;\n",
              "    }\n",
              "</style>\n",
              "<table border=\"1\" class=\"dataframe\">\n",
              "  <thead>\n",
              "    <tr style=\"text-align: right;\">\n",
              "      <th></th>\n",
              "      <th>Text</th>\n",
              "    </tr>\n",
              "  </thead>\n",
              "  <tbody>\n",
              "    <tr>\n",
              "      <th>361</th>\n",
              "      <td>Return on capital employed rose by 4.8 percent...</td>\n",
              "    </tr>\n",
              "    <tr>\n",
              "      <th>3884</th>\n",
              "      <td>The percentages of shares and voting rights ha...</td>\n",
              "    </tr>\n",
              "    <tr>\n",
              "      <th>4389</th>\n",
              "      <td>As capacity was cut with 1.4 % , the passenger...</td>\n",
              "    </tr>\n",
              "    <tr>\n",
              "      <th>4396</th>\n",
              "      <td>Finnair 's passenger load factor , which measu...</td>\n",
              "    </tr>\n",
              "    <tr>\n",
              "      <th>4689</th>\n",
              "      <td>Market share decreased on the route between He...</td>\n",
              "    </tr>\n",
              "  </tbody>\n",
              "</table>\n",
              "</div><br><label><b>dtype:</b> object</label>"
            ]
          },
          "metadata": {},
          "execution_count": 18
        }
      ]
    },
    {
      "cell_type": "code",
      "source": [
        "# Define text-cleaning function\n",
        "import re\n",
        "\n",
        "def clean_text(sentence):\n",
        "    sentence = re.sub('[^a-zA-Z%\\s]', '', sentence)  # Remove non-alphabet characters\n",
        "    sentence = re.sub('(\\s*mn\\s*)', 'market neutral', sentence)\n",
        "    sentence = re.sub('(\\s*bln\\s*)', 'billion', sentence)\n",
        "    sentence = re.sub('(\\s*mln\\s*)', 'million', sentence)\n",
        "    sentence = re.sub('(pct)|%', 'percentage', sentence)\n",
        "    return sentence\n",
        "\n",
        "# Apply cleaning function to the text column\n",
        "sentences = [clean_text(sent) for sent in df.Text]\n",
        "df['Cleaned_text'] = sentences\n"
      ],
      "metadata": {
        "id": "q7fZCGb-6Os1"
      },
      "execution_count": null,
      "outputs": []
    },
    {
      "cell_type": "code",
      "source": [
        "# Verify text cleaning\n",
        "df[df.Cleaned_text.str.contains('%') == True]['Cleaned_text']\n"
      ],
      "metadata": {
        "colab": {
          "base_uri": "https://localhost:8080/",
          "height": 84
        },
        "id": "bBf4Uo356RCz",
        "outputId": "141a47f1-013e-4b2a-9610-41ad2e923eff"
      },
      "execution_count": null,
      "outputs": [
        {
          "output_type": "execute_result",
          "data": {
            "text/plain": [
              "Series([], Name: Cleaned_text, dtype: object)"
            ],
            "text/html": [
              "<div>\n",
              "<style scoped>\n",
              "    .dataframe tbody tr th:only-of-type {\n",
              "        vertical-align: middle;\n",
              "    }\n",
              "\n",
              "    .dataframe tbody tr th {\n",
              "        vertical-align: top;\n",
              "    }\n",
              "\n",
              "    .dataframe thead th {\n",
              "        text-align: right;\n",
              "    }\n",
              "</style>\n",
              "<table border=\"1\" class=\"dataframe\">\n",
              "  <thead>\n",
              "    <tr style=\"text-align: right;\">\n",
              "      <th></th>\n",
              "      <th>Cleaned_text</th>\n",
              "    </tr>\n",
              "  </thead>\n",
              "  <tbody>\n",
              "  </tbody>\n",
              "</table>\n",
              "</div><br><label><b>dtype:</b> object</label>"
            ]
          },
          "metadata": {},
          "execution_count": 20
        }
      ]
    },
    {
      "cell_type": "code",
      "source": [
        "!pip install nltk\n",
        "import nltk\n",
        "nltk.download('punkt')\n",
        "from nltk.stem import PorterStemmer\n",
        "from nltk.tokenize import word_tokenize\n",
        "\n",
        "# Initialize stemmer and apply it to each sentence\n",
        "ps = PorterStemmer()\n",
        "for i, sent in enumerate(sentences):\n",
        "    sentences[i] = word_tokenize(sent)\n",
        "    for j, word in enumerate(sentences[i]):\n",
        "        sentences[i][j] = ps.stem(word)\n",
        "        if i == 1000:\n",
        "            print(word, ':', ps.stem(word))\n"
      ],
      "metadata": {
        "colab": {
          "base_uri": "https://localhost:8080/"
        },
        "id": "YLP07VlB6TNC",
        "outputId": "88008cf6-f3da-420e-aae7-680aca8e5ff1"
      },
      "execution_count": null,
      "outputs": [
        {
          "output_type": "stream",
          "name": "stdout",
          "text": [
            "Requirement already satisfied: nltk in /usr/local/lib/python3.10/dist-packages (3.8.1)\n",
            "Requirement already satisfied: click in /usr/local/lib/python3.10/dist-packages (from nltk) (8.1.7)\n",
            "Requirement already satisfied: joblib in /usr/local/lib/python3.10/dist-packages (from nltk) (1.4.2)\n",
            "Requirement already satisfied: regex>=2021.8.3 in /usr/local/lib/python3.10/dist-packages (from nltk) (2024.9.11)\n",
            "Requirement already satisfied: tqdm in /usr/local/lib/python3.10/dist-packages (from nltk) (4.66.6)\n"
          ]
        },
        {
          "output_type": "stream",
          "name": "stderr",
          "text": [
            "[nltk_data] Downloading package punkt to /root/nltk_data...\n",
            "[nltk_data]   Unzipping tokenizers/punkt.zip.\n"
          ]
        },
        {
          "output_type": "stream",
          "name": "stdout",
          "text": [
            "Amer : amer\n",
            "Sports : sport\n",
            "divests : divest\n",
            "an : an\n",
            "industrial : industri\n",
            "site : site\n",
            "in : in\n",
            "Rumilly : rumilli\n",
            "France : franc\n",
            "This : thi\n",
            "announcement : announc\n",
            "is : is\n",
            "distributed : distribut\n",
            "by : by\n",
            "Thomson : thomson\n",
            "Reuters : reuter\n",
            "on : on\n",
            "behalf : behalf\n",
            "of : of\n",
            "Thomson : thomson\n",
            "Reuters : reuter\n",
            "clients : client\n"
          ]
        }
      ]
    },
    {
      "cell_type": "code",
      "source": [
        "# Label encoding and tokenization\n",
        "from tensorflow.keras.preprocessing.text import Tokenizer\n",
        "from tensorflow.keras.preprocessing.sequence import pad_sequences\n",
        "from sklearn.model_selection import train_test_split\n",
        "\n",
        "# Split data into train, validation, and test sets\n",
        "X_train, X_test, y_train, y_test = train_test_split(sentences, df.Sentiment.tolist(), test_size=0.25, random_state=42, shuffle=True)\n",
        "X_train, X_val, y_train, y_val  = train_test_split(X_train, y_train, test_size=0.25, random_state=42, shuffle=True)\n",
        "\n",
        "# Tokenize and pad the sequences\n",
        "sent_tokenizer = Tokenizer()\n",
        "sent_tokenizer.fit_on_texts(X_train)\n",
        "train_sequences = sent_tokenizer.texts_to_sequences(X_train)\n",
        "test_sequences  = sent_tokenizer.texts_to_sequences(X_test)\n",
        "val_sequences   = sent_tokenizer.texts_to_sequences(X_val)\n",
        "max_len = max(list(map(len, train_sequences)))\n",
        "\n",
        "padded_train = pad_sequences(train_sequences, maxlen=max_len, padding='post')\n",
        "padded_test  = pad_sequences(test_sequences, maxlen=max_len, padding='post')\n",
        "padded_val   = pad_sequences(val_sequences, maxlen=max_len, padding='post')\n"
      ],
      "metadata": {
        "id": "GbuqKKYf6X_z"
      },
      "execution_count": null,
      "outputs": []
    },
    {
      "cell_type": "code",
      "source": [
        "label_tokenizer = Tokenizer()\n",
        "label_tokenizer.fit_on_texts(df.Sentiment.tolist())\n",
        "y_train = np.array(label_tokenizer.texts_to_sequences(y_train)) - 1\n",
        "y_test = np.array(label_tokenizer.texts_to_sequences(y_test)) - 1\n",
        "y_val = np.array(label_tokenizer.texts_to_sequences(y_val)) - 1\n"
      ],
      "metadata": {
        "id": "6eY4s5d86aSF"
      },
      "execution_count": null,
      "outputs": []
    },
    {
      "cell_type": "code",
      "source": [
        "from tensorflow.keras.layers import Input, Dense, LSTM, Embedding, Flatten\n",
        "from tensorflow.keras.models import Model\n",
        "\n",
        "# Define LSTM model\n",
        "class LSTM_(Model):\n",
        "    def __init__(self, vocab_size=6233, embedding_dim=32, input_length=50, n_classes=3, inp_shape=50):\n",
        "        super().__init__()\n",
        "        self.input_ = Input(shape=(inp_shape,))\n",
        "        self.embedding = Embedding(vocab_size, embedding_dim, input_length=input_length)\n",
        "        self.lstm = LSTM(16, return_sequences=True)\n",
        "        self.dense = Dense(16, activation='relu')\n",
        "        self.last_dense = Dense(n_classes, activation='softmax')\n",
        "    def call(self):\n",
        "        x = self.embedding(self.input_)\n",
        "        x = self.lstm(x)\n",
        "        x = Flatten()(x)\n",
        "        x = self.dense(x)\n",
        "        x = self.last_dense(x)\n",
        "        return Model(inputs=self.input_, outputs=x)\n",
        "\n",
        "# Instantiate, compile, and train the LSTM model\n",
        "model = LSTM_(6232+1, 16, padded_train.shape[1], 3, padded_train.shape[1])\n",
        "lstm_model = model.call()\n",
        "lstm_model.compile(loss='sparse_categorical_crossentropy', metrics=['accuracy'], optimizer='adam')\n",
        "lstm_history = lstm_model.fit(padded_train, y_train, validation_data=(padded_val, y_val), epochs=20, batch_size=8)\n"
      ],
      "metadata": {
        "colab": {
          "base_uri": "https://localhost:8080/"
        },
        "id": "Lo4fE8_p6dCB",
        "outputId": "d0608aed-ace6-4450-a668-9c4dbf2c1862"
      },
      "execution_count": null,
      "outputs": [
        {
          "output_type": "stream",
          "name": "stderr",
          "text": [
            "/usr/local/lib/python3.10/dist-packages/keras/src/layers/core/embedding.py:90: UserWarning: Argument `input_length` is deprecated. Just remove it.\n",
            "  warnings.warn(\n"
          ]
        },
        {
          "output_type": "stream",
          "name": "stdout",
          "text": [
            "Epoch 1/20\n",
            "\u001b[1m341/341\u001b[0m \u001b[32m━━━━━━━━━━━━━━━━━━━━\u001b[0m\u001b[37m\u001b[0m \u001b[1m12s\u001b[0m 16ms/step - accuracy: 0.5634 - loss: 0.9485 - val_accuracy: 0.7030 - val_loss: 0.7231\n",
            "Epoch 2/20\n",
            "\u001b[1m341/341\u001b[0m \u001b[32m━━━━━━━━━━━━━━━━━━━━\u001b[0m\u001b[37m\u001b[0m \u001b[1m4s\u001b[0m 11ms/step - accuracy: 0.7040 - loss: 0.6786 - val_accuracy: 0.7096 - val_loss: 0.7250\n",
            "Epoch 3/20\n",
            "\u001b[1m341/341\u001b[0m \u001b[32m━━━━━━━━━━━━━━━━━━━━\u001b[0m\u001b[37m\u001b[0m \u001b[1m3s\u001b[0m 7ms/step - accuracy: 0.7819 - loss: 0.4945 - val_accuracy: 0.6887 - val_loss: 0.8467\n",
            "Epoch 4/20\n",
            "\u001b[1m341/341\u001b[0m \u001b[32m━━━━━━━━━━━━━━━━━━━━\u001b[0m\u001b[37m\u001b[0m \u001b[1m2s\u001b[0m 6ms/step - accuracy: 0.8240 - loss: 0.3795 - val_accuracy: 0.7019 - val_loss: 1.1019\n",
            "Epoch 5/20\n",
            "\u001b[1m341/341\u001b[0m \u001b[32m━━━━━━━━━━━━━━━━━━━━\u001b[0m\u001b[37m\u001b[0m \u001b[1m3s\u001b[0m 9ms/step - accuracy: 0.8458 - loss: 0.3266 - val_accuracy: 0.6898 - val_loss: 1.2168\n",
            "Epoch 6/20\n",
            "\u001b[1m341/341\u001b[0m \u001b[32m━━━━━━━━━━━━━━━━━━━━\u001b[0m\u001b[37m\u001b[0m \u001b[1m4s\u001b[0m 6ms/step - accuracy: 0.9127 - loss: 0.2249 - val_accuracy: 0.7041 - val_loss: 1.1109\n",
            "Epoch 7/20\n",
            "\u001b[1m341/341\u001b[0m \u001b[32m━━━━━━━━━━━━━━━━━━━━\u001b[0m\u001b[37m\u001b[0m \u001b[1m3s\u001b[0m 6ms/step - accuracy: 0.9621 - loss: 0.1173 - val_accuracy: 0.7228 - val_loss: 1.5236\n",
            "Epoch 8/20\n",
            "\u001b[1m341/341\u001b[0m \u001b[32m━━━━━━━━━━━━━━━━━━━━\u001b[0m\u001b[37m\u001b[0m \u001b[1m2s\u001b[0m 6ms/step - accuracy: 0.9785 - loss: 0.0767 - val_accuracy: 0.7118 - val_loss: 1.5519\n",
            "Epoch 9/20\n",
            "\u001b[1m341/341\u001b[0m \u001b[32m━━━━━━━━━━━━━━━━━━━━\u001b[0m\u001b[37m\u001b[0m \u001b[1m2s\u001b[0m 7ms/step - accuracy: 0.9802 - loss: 0.0564 - val_accuracy: 0.7250 - val_loss: 1.9308\n",
            "Epoch 10/20\n",
            "\u001b[1m341/341\u001b[0m \u001b[32m━━━━━━━━━━━━━━━━━━━━\u001b[0m\u001b[37m\u001b[0m \u001b[1m4s\u001b[0m 10ms/step - accuracy: 0.9873 - loss: 0.0471 - val_accuracy: 0.7349 - val_loss: 2.6420\n",
            "Epoch 11/20\n",
            "\u001b[1m341/341\u001b[0m \u001b[32m━━━━━━━━━━━━━━━━━━━━\u001b[0m\u001b[37m\u001b[0m \u001b[1m4s\u001b[0m 6ms/step - accuracy: 0.9831 - loss: 0.0594 - val_accuracy: 0.7448 - val_loss: 1.9280\n",
            "Epoch 12/20\n",
            "\u001b[1m341/341\u001b[0m \u001b[32m━━━━━━━━━━━━━━━━━━━━\u001b[0m\u001b[37m\u001b[0m \u001b[1m3s\u001b[0m 6ms/step - accuracy: 0.9891 - loss: 0.0337 - val_accuracy: 0.7393 - val_loss: 1.8399\n",
            "Epoch 13/20\n",
            "\u001b[1m341/341\u001b[0m \u001b[32m━━━━━━━━━━━━━━━━━━━━\u001b[0m\u001b[37m\u001b[0m \u001b[1m2s\u001b[0m 6ms/step - accuracy: 0.9952 - loss: 0.0188 - val_accuracy: 0.7404 - val_loss: 2.0329\n",
            "Epoch 14/20\n",
            "\u001b[1m341/341\u001b[0m \u001b[32m━━━━━━━━━━━━━━━━━━━━\u001b[0m\u001b[37m\u001b[0m \u001b[1m2s\u001b[0m 6ms/step - accuracy: 0.9932 - loss: 0.0202 - val_accuracy: 0.7404 - val_loss: 2.0757\n",
            "Epoch 15/20\n",
            "\u001b[1m341/341\u001b[0m \u001b[32m━━━━━━━━━━━━━━━━━━━━\u001b[0m\u001b[37m\u001b[0m \u001b[1m4s\u001b[0m 9ms/step - accuracy: 0.9902 - loss: 0.0235 - val_accuracy: 0.7228 - val_loss: 1.7407\n",
            "Epoch 16/20\n",
            "\u001b[1m341/341\u001b[0m \u001b[32m━━━━━━━━━━━━━━━━━━━━\u001b[0m\u001b[37m\u001b[0m \u001b[1m4s\u001b[0m 6ms/step - accuracy: 0.9955 - loss: 0.0229 - val_accuracy: 0.7470 - val_loss: 1.9995\n",
            "Epoch 17/20\n",
            "\u001b[1m341/341\u001b[0m \u001b[32m━━━━━━━━━━━━━━━━━━━━\u001b[0m\u001b[37m\u001b[0m \u001b[1m2s\u001b[0m 6ms/step - accuracy: 0.9933 - loss: 0.0205 - val_accuracy: 0.7503 - val_loss: 2.0000\n",
            "Epoch 18/20\n",
            "\u001b[1m341/341\u001b[0m \u001b[32m━━━━━━━━━━━━━━━━━━━━\u001b[0m\u001b[37m\u001b[0m \u001b[1m2s\u001b[0m 6ms/step - accuracy: 0.9980 - loss: 0.0107 - val_accuracy: 0.7481 - val_loss: 2.0223\n",
            "Epoch 19/20\n",
            "\u001b[1m341/341\u001b[0m \u001b[32m━━━━━━━━━━━━━━━━━━━━\u001b[0m\u001b[37m\u001b[0m \u001b[1m3s\u001b[0m 7ms/step - accuracy: 0.9947 - loss: 0.0121 - val_accuracy: 0.7492 - val_loss: 2.1895\n",
            "Epoch 20/20\n",
            "\u001b[1m341/341\u001b[0m \u001b[32m━━━━━━━━━━━━━━━━━━━━\u001b[0m\u001b[37m\u001b[0m \u001b[1m4s\u001b[0m 10ms/step - accuracy: 0.9946 - loss: 0.0132 - val_accuracy: 0.7536 - val_loss: 2.4265\n"
          ]
        }
      ]
    },
    {
      "cell_type": "code",
      "source": [
        "# Evaluate LSTM model\n",
        "y_pred = np.argmax(lstm_model.predict(padded_test), axis=1)\n",
        "print('LSTM Model Accuracy = ', np.sum(y_pred == y_test.reshape(y_test.shape[0])) / y_test.shape[0] * 100)\n"
      ],
      "metadata": {
        "colab": {
          "base_uri": "https://localhost:8080/"
        },
        "id": "kgZ4weYC6dzU",
        "outputId": "2085a0df-67b3-4afa-90b5-030d81467cd6"
      },
      "execution_count": null,
      "outputs": [
        {
          "output_type": "stream",
          "name": "stdout",
          "text": [
            "\u001b[1m38/38\u001b[0m \u001b[32m━━━━━━━━━━━━━━━━━━━━\u001b[0m\u001b[37m\u001b[0m \u001b[1m0s\u001b[0m 5ms/step\n",
            "LSTM Model Accuracy =  72.27722772277228\n"
          ]
        }
      ]
    },
    {
      "cell_type": "code",
      "source": [
        "from tensorflow.keras.layers import Bidirectional, Dropout\n",
        "\n",
        "# Define BiLSTM model\n",
        "class BiLSTM_(Model):\n",
        "    def __init__(self, vocab_size=6233, embedding_dim=8, input_length=50, n_classes=3, inp_shape=50):\n",
        "        super().__init__()\n",
        "        self.input_ = Input(shape=(inp_shape,))\n",
        "        self.embedding = Embedding(vocab_size, embedding_dim, input_length=input_length)\n",
        "        self.bilstm = Bidirectional(LSTM(4))\n",
        "        self.dense = Dense(4, activation='relu')\n",
        "        self.last_dense = Dense(n_classes, activation='softmax', kernel_regularizer='l2')\n",
        "        self.dropout = Dropout(0.2)\n",
        "    def call(self):\n",
        "        x = self.embedding(self.input_)\n",
        "        x = self.bilstm(x)\n",
        "        x = self.dropout(x)\n",
        "        x = self.last_dense(x)\n",
        "        return Model(inputs=self.input_, outputs=x)\n",
        "\n",
        "# Instantiate, compile, and train the BiLSTM model\n",
        "model = BiLSTM_(6232+1, 10, max_len, 3, padded_train.shape[1])\n",
        "bilstm_model = model.call()\n",
        "bilstm_model.compile(loss='sparse_categorical_crossentropy', metrics=['accuracy'], optimizer='adam')\n",
        "bilstm_history = bilstm_model.fit(padded_train, y_train, validation_data=(padded_val, y_val), epochs=20, batch_size=8)\n"
      ],
      "metadata": {
        "colab": {
          "base_uri": "https://localhost:8080/"
        },
        "id": "CbR_WAgw6f_R",
        "outputId": "4ebd34ee-93f7-45b3-fe4c-06f9f6598bcf"
      },
      "execution_count": null,
      "outputs": [
        {
          "output_type": "stream",
          "name": "stdout",
          "text": [
            "Epoch 1/20\n",
            "\u001b[1m341/341\u001b[0m \u001b[32m━━━━━━━━━━━━━━━━━━━━\u001b[0m\u001b[37m\u001b[0m \u001b[1m7s\u001b[0m 10ms/step - accuracy: 0.5424 - loss: 1.0334 - val_accuracy: 0.6436 - val_loss: 0.8261\n",
            "Epoch 2/20\n",
            "\u001b[1m341/341\u001b[0m \u001b[32m━━━━━━━━━━━━━━━━━━━━\u001b[0m\u001b[37m\u001b[0m \u001b[1m5s\u001b[0m 11ms/step - accuracy: 0.6304 - loss: 0.8436 - val_accuracy: 0.7074 - val_loss: 0.7560\n",
            "Epoch 3/20\n",
            "\u001b[1m341/341\u001b[0m \u001b[32m━━━━━━━━━━━━━━━━━━━━\u001b[0m\u001b[37m\u001b[0m \u001b[1m3s\u001b[0m 8ms/step - accuracy: 0.7370 - loss: 0.7015 - val_accuracy: 0.7107 - val_loss: 0.7556\n",
            "Epoch 4/20\n",
            "\u001b[1m341/341\u001b[0m \u001b[32m━━━━━━━━━━━━━━━━━━━━\u001b[0m\u001b[37m\u001b[0m \u001b[1m5s\u001b[0m 8ms/step - accuracy: 0.7973 - loss: 0.5824 - val_accuracy: 0.7063 - val_loss: 0.7922\n",
            "Epoch 5/20\n",
            "\u001b[1m341/341\u001b[0m \u001b[32m━━━━━━━━━━━━━━━━━━━━\u001b[0m\u001b[37m\u001b[0m \u001b[1m4s\u001b[0m 10ms/step - accuracy: 0.8090 - loss: 0.5222 - val_accuracy: 0.7217 - val_loss: 0.7977\n",
            "Epoch 6/20\n",
            "\u001b[1m341/341\u001b[0m \u001b[32m━━━━━━━━━━━━━━━━━━━━\u001b[0m\u001b[37m\u001b[0m \u001b[1m4s\u001b[0m 8ms/step - accuracy: 0.8290 - loss: 0.4800 - val_accuracy: 0.7184 - val_loss: 0.8290\n",
            "Epoch 7/20\n",
            "\u001b[1m341/341\u001b[0m \u001b[32m━━━━━━━━━━━━━━━━━━━━\u001b[0m\u001b[37m\u001b[0m \u001b[1m5s\u001b[0m 8ms/step - accuracy: 0.8395 - loss: 0.4578 - val_accuracy: 0.7151 - val_loss: 0.8641\n",
            "Epoch 8/20\n",
            "\u001b[1m341/341\u001b[0m \u001b[32m━━━━━━━━━━━━━━━━━━━━\u001b[0m\u001b[37m\u001b[0m \u001b[1m4s\u001b[0m 11ms/step - accuracy: 0.8459 - loss: 0.4302 - val_accuracy: 0.7283 - val_loss: 0.9015\n",
            "Epoch 9/20\n",
            "\u001b[1m341/341\u001b[0m \u001b[32m━━━━━━━━━━━━━━━━━━━━\u001b[0m\u001b[37m\u001b[0m \u001b[1m4s\u001b[0m 8ms/step - accuracy: 0.8504 - loss: 0.4119 - val_accuracy: 0.7272 - val_loss: 0.8912\n",
            "Epoch 10/20\n",
            "\u001b[1m341/341\u001b[0m \u001b[32m━━━━━━━━━━━━━━━━━━━━\u001b[0m\u001b[37m\u001b[0m \u001b[1m5s\u001b[0m 8ms/step - accuracy: 0.8524 - loss: 0.4006 - val_accuracy: 0.7052 - val_loss: 0.9241\n",
            "Epoch 11/20\n",
            "\u001b[1m341/341\u001b[0m \u001b[32m━━━━━━━━━━━━━━━━━━━━\u001b[0m\u001b[37m\u001b[0m \u001b[1m6s\u001b[0m 10ms/step - accuracy: 0.8543 - loss: 0.3961 - val_accuracy: 0.7129 - val_loss: 0.9331\n",
            "Epoch 12/20\n",
            "\u001b[1m341/341\u001b[0m \u001b[32m━━━━━━━━━━━━━━━━━━━━\u001b[0m\u001b[37m\u001b[0m \u001b[1m4s\u001b[0m 8ms/step - accuracy: 0.8483 - loss: 0.4002 - val_accuracy: 0.7151 - val_loss: 0.9406\n",
            "Epoch 13/20\n",
            "\u001b[1m341/341\u001b[0m \u001b[32m━━━━━━━━━━━━━━━━━━━━\u001b[0m\u001b[37m\u001b[0m \u001b[1m3s\u001b[0m 8ms/step - accuracy: 0.8529 - loss: 0.3920 - val_accuracy: 0.7129 - val_loss: 0.9494\n",
            "Epoch 14/20\n",
            "\u001b[1m341/341\u001b[0m \u001b[32m━━━━━━━━━━━━━━━━━━━━\u001b[0m\u001b[37m\u001b[0m \u001b[1m6s\u001b[0m 10ms/step - accuracy: 0.8567 - loss: 0.3770 - val_accuracy: 0.7195 - val_loss: 0.9739\n",
            "Epoch 15/20\n",
            "\u001b[1m341/341\u001b[0m \u001b[32m━━━━━━━━━━━━━━━━━━━━\u001b[0m\u001b[37m\u001b[0m \u001b[1m3s\u001b[0m 8ms/step - accuracy: 0.8585 - loss: 0.3707 - val_accuracy: 0.7129 - val_loss: 0.9891\n",
            "Epoch 16/20\n",
            "\u001b[1m341/341\u001b[0m \u001b[32m━━━━━━━━━━━━━━━━━━━━\u001b[0m\u001b[37m\u001b[0m \u001b[1m5s\u001b[0m 8ms/step - accuracy: 0.8569 - loss: 0.3707 - val_accuracy: 0.7151 - val_loss: 1.0071\n",
            "Epoch 17/20\n",
            "\u001b[1m341/341\u001b[0m \u001b[32m━━━━━━━━━━━━━━━━━━━━\u001b[0m\u001b[37m\u001b[0m \u001b[1m5s\u001b[0m 8ms/step - accuracy: 0.8572 - loss: 0.3686 - val_accuracy: 0.7283 - val_loss: 1.0378\n",
            "Epoch 18/20\n",
            "\u001b[1m341/341\u001b[0m \u001b[32m━━━━━━━━━━━━━━━━━━━━\u001b[0m\u001b[37m\u001b[0m \u001b[1m3s\u001b[0m 8ms/step - accuracy: 0.8558 - loss: 0.3648 - val_accuracy: 0.7074 - val_loss: 1.0026\n",
            "Epoch 19/20\n",
            "\u001b[1m341/341\u001b[0m \u001b[32m━━━━━━━━━━━━━━━━━━━━\u001b[0m\u001b[37m\u001b[0m \u001b[1m3s\u001b[0m 8ms/step - accuracy: 0.8436 - loss: 0.4136 - val_accuracy: 0.7052 - val_loss: 1.0259\n",
            "Epoch 20/20\n",
            "\u001b[1m341/341\u001b[0m \u001b[32m━━━━━━━━━━━━━━━━━━━━\u001b[0m\u001b[37m\u001b[0m \u001b[1m4s\u001b[0m 10ms/step - accuracy: 0.8565 - loss: 0.3615 - val_accuracy: 0.7096 - val_loss: 1.0456\n"
          ]
        }
      ]
    },
    {
      "cell_type": "code",
      "source": [
        "# Cell 18: Compile and train the Bidirectional LSTM model\n",
        "model = BiLSTM_(6232 + 1, 10, max_len, 3, padded_train.shape[1])\n",
        "bilstm_model = model.call()\n",
        "bilstm_model.compile(loss='sparse_categorical_crossentropy', metrics=['accuracy'], optimizer='adam')\n",
        "bilstm_history = bilstm_model.fit(padded_train, y_train, validation_data=(padded_val, y_val), epochs=20, batch_size=8)\n"
      ],
      "metadata": {
        "colab": {
          "base_uri": "https://localhost:8080/"
        },
        "id": "ZypuKA-w6iga",
        "outputId": "9c31d12b-5066-43ef-aa46-6ca34e69661c"
      },
      "execution_count": null,
      "outputs": [
        {
          "output_type": "stream",
          "name": "stdout",
          "text": [
            "Epoch 1/20\n",
            "\u001b[1m341/341\u001b[0m \u001b[32m━━━━━━━━━━━━━━━━━━━━\u001b[0m\u001b[37m\u001b[0m \u001b[1m5s\u001b[0m 9ms/step - accuracy: 0.5645 - loss: 1.0302 - val_accuracy: 0.6315 - val_loss: 0.8422\n",
            "Epoch 2/20\n",
            "\u001b[1m341/341\u001b[0m \u001b[32m━━━━━━━━━━━━━━━━━━━━\u001b[0m\u001b[37m\u001b[0m \u001b[1m3s\u001b[0m 8ms/step - accuracy: 0.6306 - loss: 0.8609 - val_accuracy: 0.7118 - val_loss: 0.7595\n",
            "Epoch 3/20\n",
            "\u001b[1m341/341\u001b[0m \u001b[32m━━━━━━━━━━━━━━━━━━━━\u001b[0m\u001b[37m\u001b[0m \u001b[1m6s\u001b[0m 10ms/step - accuracy: 0.7344 - loss: 0.7173 - val_accuracy: 0.7250 - val_loss: 0.7389\n",
            "Epoch 4/20\n",
            "\u001b[1m341/341\u001b[0m \u001b[32m━━━━━━━━━━━━━━━━━━━━\u001b[0m\u001b[37m\u001b[0m \u001b[1m3s\u001b[0m 8ms/step - accuracy: 0.7963 - loss: 0.6002 - val_accuracy: 0.7206 - val_loss: 0.7700\n",
            "Epoch 5/20\n",
            "\u001b[1m341/341\u001b[0m \u001b[32m━━━━━━━━━━━━━━━━━━━━\u001b[0m\u001b[37m\u001b[0m \u001b[1m3s\u001b[0m 8ms/step - accuracy: 0.8207 - loss: 0.5098 - val_accuracy: 0.7074 - val_loss: 0.7975\n",
            "Epoch 6/20\n",
            "\u001b[1m341/341\u001b[0m \u001b[32m━━━━━━━━━━━━━━━━━━━━\u001b[0m\u001b[37m\u001b[0m \u001b[1m3s\u001b[0m 8ms/step - accuracy: 0.8351 - loss: 0.4645 - val_accuracy: 0.7096 - val_loss: 0.8288\n",
            "Epoch 7/20\n",
            "\u001b[1m341/341\u001b[0m \u001b[32m━━━━━━━━━━━━━━━━━━━━\u001b[0m\u001b[37m\u001b[0m \u001b[1m5s\u001b[0m 8ms/step - accuracy: 0.8432 - loss: 0.4290 - val_accuracy: 0.7173 - val_loss: 0.8731\n",
            "Epoch 8/20\n",
            "\u001b[1m341/341\u001b[0m \u001b[32m━━━━━━━━━━━━━━━━━━━━\u001b[0m\u001b[37m\u001b[0m \u001b[1m3s\u001b[0m 8ms/step - accuracy: 0.8480 - loss: 0.4206 - val_accuracy: 0.7250 - val_loss: 0.9142\n",
            "Epoch 9/20\n",
            "\u001b[1m341/341\u001b[0m \u001b[32m━━━━━━━━━━━━━━━━━━━━\u001b[0m\u001b[37m\u001b[0m \u001b[1m3s\u001b[0m 8ms/step - accuracy: 0.8537 - loss: 0.4019 - val_accuracy: 0.7217 - val_loss: 0.9281\n",
            "Epoch 10/20\n",
            "\u001b[1m341/341\u001b[0m \u001b[32m━━━━━━━━━━━━━━━━━━━━\u001b[0m\u001b[37m\u001b[0m \u001b[1m4s\u001b[0m 11ms/step - accuracy: 0.8525 - loss: 0.4053 - val_accuracy: 0.7140 - val_loss: 0.9203\n",
            "Epoch 11/20\n",
            "\u001b[1m341/341\u001b[0m \u001b[32m━━━━━━━━━━━━━━━━━━━━\u001b[0m\u001b[37m\u001b[0m \u001b[1m3s\u001b[0m 9ms/step - accuracy: 0.8540 - loss: 0.3890 - val_accuracy: 0.7195 - val_loss: 0.9426\n",
            "Epoch 12/20\n",
            "\u001b[1m341/341\u001b[0m \u001b[32m━━━━━━━━━━━━━━━━━━━━\u001b[0m\u001b[37m\u001b[0m \u001b[1m5s\u001b[0m 8ms/step - accuracy: 0.8563 - loss: 0.3783 - val_accuracy: 0.7096 - val_loss: 0.9492\n",
            "Epoch 13/20\n",
            "\u001b[1m341/341\u001b[0m \u001b[32m━━━━━━━━━━━━━━━━━━━━\u001b[0m\u001b[37m\u001b[0m \u001b[1m6s\u001b[0m 12ms/step - accuracy: 0.8550 - loss: 0.3747 - val_accuracy: 0.7129 - val_loss: 0.9895\n",
            "Epoch 14/20\n",
            "\u001b[1m341/341\u001b[0m \u001b[32m━━━━━━━━━━━━━━━━━━━━\u001b[0m\u001b[37m\u001b[0m \u001b[1m3s\u001b[0m 8ms/step - accuracy: 0.8564 - loss: 0.3736 - val_accuracy: 0.7052 - val_loss: 0.9791\n",
            "Epoch 15/20\n",
            "\u001b[1m341/341\u001b[0m \u001b[32m━━━━━━━━━━━━━━━━━━━━\u001b[0m\u001b[37m\u001b[0m \u001b[1m5s\u001b[0m 8ms/step - accuracy: 0.8576 - loss: 0.3644 - val_accuracy: 0.7338 - val_loss: 0.9774\n",
            "Epoch 16/20\n",
            "\u001b[1m341/341\u001b[0m \u001b[32m━━━━━━━━━━━━━━━━━━━━\u001b[0m\u001b[37m\u001b[0m \u001b[1m6s\u001b[0m 11ms/step - accuracy: 0.8556 - loss: 0.3631 - val_accuracy: 0.7151 - val_loss: 1.0428\n",
            "Epoch 17/20\n",
            "\u001b[1m341/341\u001b[0m \u001b[32m━━━━━━━━━━━━━━━━━━━━\u001b[0m\u001b[37m\u001b[0m \u001b[1m3s\u001b[0m 8ms/step - accuracy: 0.8558 - loss: 0.3679 - val_accuracy: 0.7162 - val_loss: 1.0549\n",
            "Epoch 18/20\n",
            "\u001b[1m341/341\u001b[0m \u001b[32m━━━━━━━━━━━━━━━━━━━━\u001b[0m\u001b[37m\u001b[0m \u001b[1m5s\u001b[0m 8ms/step - accuracy: 0.8568 - loss: 0.3584 - val_accuracy: 0.7184 - val_loss: 1.0413\n",
            "Epoch 19/20\n",
            "\u001b[1m341/341\u001b[0m \u001b[32m━━━━━━━━━━━━━━━━━━━━\u001b[0m\u001b[37m\u001b[0m \u001b[1m4s\u001b[0m 11ms/step - accuracy: 0.8573 - loss: 0.3546 - val_accuracy: 0.6920 - val_loss: 1.0685\n",
            "Epoch 20/20\n",
            "\u001b[1m341/341\u001b[0m \u001b[32m━━━━━━━━━━━━━━━━━━━━\u001b[0m\u001b[37m\u001b[0m \u001b[1m3s\u001b[0m 10ms/step - accuracy: 0.8550 - loss: 0.3522 - val_accuracy: 0.7019 - val_loss: 1.0728\n"
          ]
        }
      ]
    },
    {
      "cell_type": "code",
      "source": [
        "# Cell 19: Evaluate Bidirectional LSTM model on test data\n",
        "y_pred_bilstm = np.argmax(bilstm_model.predict(padded_test), axis=1)\n",
        "print('Accuracy = ', np.sum(y_pred_bilstm == y_test.reshape(y_test.shape[0])) / y_test.shape[0] * 100)\n"
      ],
      "metadata": {
        "colab": {
          "base_uri": "https://localhost:8080/"
        },
        "id": "1Te6Ny1i7wxs",
        "outputId": "b937236f-52c2-4960-ac7f-0646cad55630"
      },
      "execution_count": null,
      "outputs": [
        {
          "output_type": "stream",
          "name": "stdout",
          "text": [
            "\u001b[1m38/38\u001b[0m \u001b[32m━━━━━━━━━━━━━━━━━━━━\u001b[0m\u001b[37m\u001b[0m \u001b[1m0s\u001b[0m 8ms/step\n",
            "Accuracy =  66.006600660066\n"
          ]
        }
      ]
    }
  ]
}